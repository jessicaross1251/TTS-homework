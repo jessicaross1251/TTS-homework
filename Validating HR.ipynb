{
 "cells": [
  {
   "cell_type": "code",
   "execution_count": null,
   "id": "b7a9034a",
   "metadata": {},
   "outputs": [],
   "source": [
    "from re import fullmatch\n",
    "from email.utils import parseaddr\n",
    "\n",
    "N = int(input())\n",
    "\n",
    "for _ in range(N):\n",
    "    input_line = input()\n",
    "\n",
    "    if fullmatch(r\"[a-zA-Z][a-zA-Z0-9_\\-\\.]+@[a-zA-Z]+\\.[a-zA-Z]{1,3}\", parseaddr(input_line)[1]):\n",
    "        print(input_line)"
   ]
  }
 ],
 "metadata": {
  "kernelspec": {
   "display_name": "Python 3 (ipykernel)",
   "language": "python",
   "name": "python3"
  },
  "language_info": {
   "codemirror_mode": {
    "name": "ipython",
    "version": 3
   },
   "file_extension": ".py",
   "mimetype": "text/x-python",
   "name": "python",
   "nbconvert_exporter": "python",
   "pygments_lexer": "ipython3",
   "version": "3.9.13"
  }
 },
 "nbformat": 4,
 "nbformat_minor": 5
}

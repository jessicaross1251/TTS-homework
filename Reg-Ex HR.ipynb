{
 "cells": [
  {
   "cell_type": "code",
   "execution_count": null,
   "id": "09892a18",
   "metadata": {},
   "outputs": [],
   "source": [
    "import re\n",
    "\n",
    "def sub_func(s):\n",
    "    s = re.sub(r'(?<= )\\|\\|(?= )', r'or', s)\n",
    "    s = re.sub(r'(?<= )\\&\\&(?= )', r'and', s)\n",
    "    return s\n",
    "\n",
    "lines = [input() for _ in range(int(input()))]\n",
    "for line in map(sub_func, lines):\n",
    "    print(line)"
   ]
  },
  {
   "cell_type": "code",
   "execution_count": null,
   "id": "9fa96cdd",
   "metadata": {},
   "outputs": [],
   "source": []
  }
 ],
 "metadata": {
  "kernelspec": {
   "display_name": "Python 3 (ipykernel)",
   "language": "python",
   "name": "python3"
  },
  "language_info": {
   "codemirror_mode": {
    "name": "ipython",
    "version": 3
   },
   "file_extension": ".py",
   "mimetype": "text/x-python",
   "name": "python",
   "nbconvert_exporter": "python",
   "pygments_lexer": "ipython3",
   "version": "3.9.13"
  }
 },
 "nbformat": 4,
 "nbformat_minor": 5
}

{
 "cells": [
  {
   "cell_type": "markdown",
   "id": "630e7a18",
   "metadata": {},
   "source": [
    "<b> Exercises for Python Module 1 </b>\n",
    "\n",
    "Make sure to comment all your code!"
   ]
  },
  {
   "cell_type": "markdown",
   "id": "27e339a6",
   "metadata": {},
   "source": [
    "Accept the user's first and last name and print them in reverse order with a space between them. \n",
    "\n",
    "Keyword hints: print function, input function, append, add, string"
   ]
  },
  {
   "cell_type": "code",
   "execution_count": null,
   "id": "622a3ae7",
   "metadata": {},
   "outputs": [],
   "source": [
    "a = input('What is your first name?') # We are asking the user to input their first name.\n",
    "b = input('What is your last name?')  # We are asking the user to input their last name.\n",
    "print(b, a)  # We are telling the computer to print the user's last name, then first name."
   ]
  },
  {
   "cell_type": "markdown",
   "id": "ea977dfc",
   "metadata": {},
   "source": [
    "Ask the user \"What country are you from?\" then print the following statement: \"I have heard that [input] is a beautiful country!\""
   ]
  },
  {
   "cell_type": "code",
   "execution_count": null,
   "id": "f6b2cc68",
   "metadata": {},
   "outputs": [],
   "source": [
    "i = input(\"What country are you from? \") # The input function will give the user a prompt \n",
    "                                         # and a place to input what country they are from.\n",
    "print(\"I have heard that\", i, \"is a beautiful country!\") # We are telling the computer to print \n",
    "                                                         # the sentence in red, but to substitute \n",
    "                                                         # the 'i' for country provided by the user in the last line."
   ]
  },
  {
   "cell_type": "markdown",
   "id": "217d837d",
   "metadata": {},
   "source": [
    "Explain the output for:\n",
    "\n",
    "x = 36 / 4 * (3 +  2) * 4 + 2"
   ]
  },
  {
   "cell_type": "markdown",
   "id": "5b20a2e2",
   "metadata": {},
   "source": [
    "<b><font color=darkgreen>Using the order of operations, we first add 3 to 2 to get 5.\n",
    "Thus we have 36/4 * 5 * 4 + 2.\n",
    "Then we can divide 36 by 4 to get 9.\n",
    "We then have 9 * 5 * 4 + 2.\n",
    "Next we can multiply 9 by 5 by 4 to get 180.\n",
    "We now have 180 + 2.\n",
    "Lastly we complete the remaining operation of addition to get: 182.</font><b>\n"
   ]
  },
  {
   "cell_type": "code",
   "execution_count": 1,
   "id": "730b4353",
   "metadata": {},
   "outputs": [
    {
     "data": {
      "text/plain": [
       "182.0"
      ]
     },
     "execution_count": 1,
     "metadata": {},
     "output_type": "execute_result"
    }
   ],
   "source": [
    "36/4*(3+2)*4+2  # We are asking Python to complete some operations, \n",
    "                # (addition, division, multiplication, and addition) on some integers."
   ]
  },
  {
   "cell_type": "markdown",
   "id": "7b77d65d",
   "metadata": {},
   "source": [
    "What is the output of the following code and what arithmetic operators is being used here? \n",
    "\n",
    "print(2%6)"
   ]
  },
  {
   "cell_type": "code",
   "execution_count": 2,
   "id": "a819b258",
   "metadata": {},
   "outputs": [
    {
     "name": "stdout",
     "output_type": "stream",
     "text": [
      "2\n"
     ]
    }
   ],
   "source": [
    "print(2%6) # We are asking Python to print the outcome of the modulo division operator on the dividend 2, and divisor 6."
   ]
  },
  {
   "cell_type": "markdown",
   "id": "5f566dc5",
   "metadata": {},
   "source": [
    "<b><font color=green>The operation being used here is modulo division.  This will give us the remainder when we divide 2 by 6.\n",
    "Six can divide evenly into two 0 times with a remainder of 2, so the result of the operation is 2.</font><b>"
   ]
  },
  {
   "cell_type": "markdown",
   "id": "b2f2fe38",
   "metadata": {},
   "source": [
    "What is the output of the following code and what arithmetic operators are used here? \n",
    "\n",
    "print(2 * 3 ** 3 * 4)"
   ]
  },
  {
   "cell_type": "code",
   "execution_count": 3,
   "id": "5a218db8",
   "metadata": {},
   "outputs": [
    {
     "name": "stdout",
     "output_type": "stream",
     "text": [
      "216\n"
     ]
    }
   ],
   "source": [
    "print(2*3**3*4) # We are asking Python to prind the product of (2 times 3^3 times 4)."
   ]
  },
  {
   "cell_type": "markdown",
   "id": "c57d9abf",
   "metadata": {},
   "source": [
    "<b><font color=green>The print function will print the result of the operators on the integers.\n",
    "The single star symbol is the multiplication operator.\n",
    "The double star will exponentiate the next number to become an exponent to the previous number.\n",
    "In many calculators, this is done with the ^ key. </font><b>"
   ]
  },
  {
   "cell_type": "markdown",
   "id": "c7ccc477",
   "metadata": {},
   "source": [
    "Accept an integer (n) and compute the value of n+nn+nnn. For example, if n = 4, then n+nn+nnn should equal 492. \n",
    "\n",
    "Keyword hints: Hint(4+44+444)"
   ]
  },
  {
   "cell_type": "code",
   "execution_count": null,
   "id": "34078483",
   "metadata": {},
   "outputs": [],
   "source": [
    "c = input(\"Enter an integer, n. n = \") # We are asking the user to input an integer, and we are using the variable c\n",
    "                                       # to point to their answer.\n",
    "d = c + c                              # We are using the variable d to point to the sum of c and itself.\n",
    "e = c + c + c                          # We are using the variable e to point to the sum of c, c, and c.\n",
    "f = int(c)                             # We are changing what c points to, to be an integer, and we are pointing to that\n",
    "                                       # using the variable f.\n",
    "g = int(d)                             # We are changing what d points to , to be an integer, and we are pointing to that\n",
    "                                       # using the variable g.\n",
    "h = int(e)                             # We are changing what e point to, to be an integer, and we are pointing to that \n",
    "                                       # using the variable h.\n",
    "print(f + g + h)                       # We are asking Python to print the sum of the numbers that f, g and h point to."
   ]
  },
  {
   "cell_type": "markdown",
   "id": "cc9d29ed",
   "metadata": {},
   "source": [
    "What is an IDE?"
   ]
  },
  {
   "cell_type": "markdown",
   "id": "ce13d0c6",
   "metadata": {},
   "source": [
    "<b><font color=green> IDE stands for Integrated Development Environment.  It is a software application that can help progrommers develop code.</font><b>\n"
   ]
  },
  {
   "cell_type": "markdown",
   "id": "f702b1de",
   "metadata": {},
   "source": [
    "What is a Text Editor?"
   ]
  },
  {
   "cell_type": "markdown",
   "id": "58c24abc",
   "metadata": {},
   "source": [
    "<b><font color=green> A text editor is a program that lets users create, change, or edit plain text files. </font><b>"
   ]
  },
  {
   "cell_type": "markdown",
   "id": "bc31d150",
   "metadata": {},
   "source": [
    "What is  filepath?"
   ]
  },
  {
   "cell_type": "markdown",
   "id": "93e0ba2c",
   "metadata": {},
   "source": [
    "<b><font color=green> A file path tells us the location of a file in a computer's file system structure. </font><b>"
   ]
  },
  {
   "cell_type": "markdown",
   "id": "1a8bf765",
   "metadata": {},
   "source": [
    "Describe Python as a programming language?"
   ]
  },
  {
   "cell_type": "markdown",
   "id": "af319966",
   "metadata": {},
   "source": [
    "<b><font color=green> Python is a programmng language that uses variables as pointers, and where everything is an object. </font><b>"
   ]
  },
  {
   "cell_type": "markdown",
   "id": "479cc46c",
   "metadata": {},
   "source": [
    "What is Jupyter Notebook, and how does it differ from other IDEs such as VSCode?"
   ]
  },
  {
   "cell_type": "markdown",
   "id": "0b7c8ac2",
   "metadata": {},
   "source": [
    "<b><font color=green>Jupyter Notebook is an application that allows users to write code in different coding languages.\n",
    "Jupyter Notebook is great for interactive data analysis and collaboration, while other IDEs, such as VSCode, are great for coding and debugging.</font><b>"
   ]
  },
  {
   "cell_type": "markdown",
   "id": "8b78b231",
   "metadata": {},
   "source": [
    "What is the difference between a \"code\" cell (at the top of your notebook) and a \"markdown\" cell?"
   ]
  },
  {
   "cell_type": "markdown",
   "id": "b0874a37",
   "metadata": {},
   "source": [
    "<b><font color=green>A code cell is one in which you can create and run code.  A markdown cell, is one in which you can type plain text as titles, explanations, ect.</font><b>"
   ]
  },
  {
   "cell_type": "markdown",
   "id": "d4fcc215",
   "metadata": {},
   "source": [
    "Describe each operator catagory: (Notebook 01_03)"
   ]
  },
  {
   "cell_type": "markdown",
   "id": "bb51fefa",
   "metadata": {},
   "source": [
    "<b><font color=green>The different categories of operators in Python include: arithmetic, bitwise, assignment, comparison, boolean, identity and membership. </font><b>\n",
    "    \n",
    "    Arithmetic: Python uses seven binary arithmetic operators; two of these can also be used as unary operators. \n",
    "                The 7 binary operators are:  \n",
    "                                1. Addition; a + b\n",
    "                                2. Subtraction; a - b\n",
    "                                3. Multiplication; a * b\n",
    "                                4. True division; a / b\n",
    "                                5. Floor division (returns the integer part of the quotient); a // b\n",
    "                                6. Modulus (gives the integer remainder); a % b\n",
    "                                7. Exponentiation; a ** b\n",
    "                The unary operators include: 1. Negation; -a\n",
    "                                             2. Unary plus (a is unchanged); +a\n",
    "    \n",
    "    Bitwise: These operators perform logical operations on integers.  These should be used when one wants to operate on \n",
    "             individual bits or parts of the object of interest. Python uses 6 bitwise operators.\n",
    "             1. AND; a & b\n",
    "             2. OR; a | b\n",
    "             3. XOR (defined in a or b bot not both); a ^ b\n",
    "             4. shift left; a << b\n",
    "             5. shift right; a >> b\n",
    "             6. NOT; ~a\n",
    "    \n",
    "    Assignment:  These operators can assign variables to point to certain values.  They can also alter what the \n",
    "                 variable points to by using any operator and the '='.  Let ■ be any operator. \n",
    "                 Then a ■= b is the same as a = a ■ b.\n",
    "                 examples:\n",
    "                     a = 2; variable a points to 2\n",
    "                     a += 7; adds 7 to what a is pointing to and reassigns a to point to this new value.  \n",
    "                             In this case a would now point to 9\n",
    "    \n",
    "    Comparison: These operators compare different values and can return Boolean values (True or False).  \n",
    "                The following are comparison operators:\n",
    "                1. a == b; a equal to b\n",
    "                2. a != b; a not equal to b\n",
    "                3. a < b; a less than b\n",
    "                4. a > b; a greater than b\n",
    "                5. a <= b; a less than or equal to b\n",
    "                6. a >= b; a greater than or equal to b\n",
    "    \n",
    "    Boolean: Python uses the logical concepts of \"and\", \"or\", and \"not\" as additional tools to work with Boolean values.\n",
    "             These can be easily confused with the bitwise operators.  We only use Boolean operators when we want to test \n",
    "             whether a statement is true or false.\n",
    "             examples:\n",
    "             Let p, r, and t be statements that have a Boolean value.\n",
    "                  p and r; both p and r must be true to return a true value, if either is false, the entire statement \n",
    "                           is false\n",
    "                  p or r; for this statement to be considered true, only one of p or r has to be true, the statement \n",
    "                          is false only if p and r are false\n",
    "                  not p; if p is true, then not p is false, if p is false, then not p is true\n",
    "    \n",
    "    Identity: Identity operators check for object identity which is DIFFERENT from object equality.  Identity versus \n",
    "              equality can be likened unto the relationship between identical twins.  They have the exact same \n",
    "              (or equal) DNA, but they are NOT the same person (they have their own identity).\n",
    "              There are 2 identity operators (we will utilize the twin metaphor):\n",
    "              1. a is b; a and b point to the same twin \n",
    "              2. a is not b; a and b do not point to the same twin, a can point to twin A and b can point to \n",
    "                             twin B (so they are equal or have the same DNA), but they do not have the same \n",
    "                             identity because twin A is not the same person as twin B.\n",
    "    \n",
    "    Membership: Operators that check objects for membership within compound objects constitute our membership operators.  \n",
    "                Membership operators include:\n",
    "                1. a in b; 'in' will check if a is pointing to an object that is an element of what b is pointing to.\n",
    "                2. a not in b; 'not in' checks to see if a is pointing to an object that is NOT an element of what b is\n",
    "                   pointing to.\n",
    "    "
   ]
  },
  {
   "cell_type": "markdown",
   "id": "7d048f8c",
   "metadata": {},
   "source": [
    "Describe what the phrase \"everything is an object\" means in Python; what is an object?"
   ]
  },
  {
   "cell_type": "markdown",
   "id": "758090a6",
   "metadata": {},
   "source": [
    "<b><font color=green>In Python, an object is an entity that has some metadata (or attributes) and associated functionality (or methods).  Thus, in Python everything is an object with attributes and methods.</font><b>"
   ]
  }
 ],
 "metadata": {
  "kernelspec": {
   "display_name": "Python 3 (ipykernel)",
   "language": "python",
   "name": "python3"
  },
  "language_info": {
   "codemirror_mode": {
    "name": "ipython",
    "version": 3
   },
   "file_extension": ".py",
   "mimetype": "text/x-python",
   "name": "python",
   "nbconvert_exporter": "python",
   "pygments_lexer": "ipython3",
   "version": "3.9.13"
  }
 },
 "nbformat": 4,
 "nbformat_minor": 5
}

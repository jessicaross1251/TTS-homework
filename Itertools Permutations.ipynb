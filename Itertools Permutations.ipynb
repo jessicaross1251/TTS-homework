{
 "cells": [
  {
   "cell_type": "code",
   "execution_count": 1,
   "id": "ef679df4",
   "metadata": {},
   "outputs": [
    {
     "name": "stdout",
     "output_type": "stream",
     "text": [
      "SUPER 3\n",
      "EPR\n",
      "EPS\n",
      "EPU\n",
      "ERP\n",
      "ERS\n",
      "ERU\n",
      "ESP\n",
      "ESR\n",
      "ESU\n",
      "EUP\n",
      "EUR\n",
      "EUS\n",
      "PER\n",
      "PES\n",
      "PEU\n",
      "PRE\n",
      "PRS\n",
      "PRU\n",
      "PSE\n",
      "PSR\n",
      "PSU\n",
      "PUE\n",
      "PUR\n",
      "PUS\n",
      "REP\n",
      "RES\n",
      "REU\n",
      "RPE\n",
      "RPS\n",
      "RPU\n",
      "RSE\n",
      "RSP\n",
      "RSU\n",
      "RUE\n",
      "RUP\n",
      "RUS\n",
      "SEP\n",
      "SER\n",
      "SEU\n",
      "SPE\n",
      "SPR\n",
      "SPU\n",
      "SRE\n",
      "SRP\n",
      "SRU\n",
      "SUE\n",
      "SUP\n",
      "SUR\n",
      "UEP\n",
      "UER\n",
      "UES\n",
      "UPE\n",
      "UPR\n",
      "UPS\n",
      "URE\n",
      "URP\n",
      "URS\n",
      "USE\n",
      "USP\n",
      "USR\n"
     ]
    }
   ],
   "source": [
    "from itertools import permutations\n",
    "\n",
    "S, k = input().split()\n",
    "\n",
    "for i in sorted(permutations(str(S), int(k))):\n",
    "    print(''.join(i))"
   ]
  }
 ],
 "metadata": {
  "kernelspec": {
   "display_name": "Python 3 (ipykernel)",
   "language": "python",
   "name": "python3"
  },
  "language_info": {
   "codemirror_mode": {
    "name": "ipython",
    "version": 3
   },
   "file_extension": ".py",
   "mimetype": "text/x-python",
   "name": "python",
   "nbconvert_exporter": "python",
   "pygments_lexer": "ipython3",
   "version": "3.9.13"
  }
 },
 "nbformat": 4,
 "nbformat_minor": 5
}

{
 "cells": [
  {
   "cell_type": "code",
   "execution_count": 4,
   "id": "29d4c0cd",
   "metadata": {},
   "outputs": [
    {
     "name": "stdout",
     "output_type": "stream",
     "text": [
      "1 3 5 7\n"
     ]
    },
    {
     "data": {
      "text/plain": [
       "array([7., 5., 3., 1.])"
      ]
     },
     "execution_count": 4,
     "metadata": {},
     "output_type": "execute_result"
    }
   ],
   "source": [
    "import numpy\n",
    "\n",
    "def arrays(arr):\n",
    "    my_array = []\n",
    "    a = numpy.array(arr, float)\n",
    "    for i in range(len(a)):\n",
    "        my_array.append(a[(len(a)-1)-i])\n",
    "        \n",
    "    return numpy.array(my_array,float)\n",
    "    \n",
    "arr = input().strip().split(' ')\n",
    "arrays(arr)"
   ]
  }
 ],
 "metadata": {
  "kernelspec": {
   "display_name": "Python 3 (ipykernel)",
   "language": "python",
   "name": "python3"
  },
  "language_info": {
   "codemirror_mode": {
    "name": "ipython",
    "version": 3
   },
   "file_extension": ".py",
   "mimetype": "text/x-python",
   "name": "python",
   "nbconvert_exporter": "python",
   "pygments_lexer": "ipython3",
   "version": "3.9.13"
  }
 },
 "nbformat": 4,
 "nbformat_minor": 5
}

{
 "cells": [
  {
   "cell_type": "markdown",
   "id": "2d19f6f3",
   "metadata": {},
   "source": [
    "<b> 02 and 03 Exercises </b>"
   ]
  },
  {
   "cell_type": "markdown",
   "id": "fc841134",
   "metadata": {},
   "source": [
    "<b> 02 Exercises - Data Structures <b>"
   ]
  },
  {
   "cell_type": "markdown",
   "id": "62ff64de",
   "metadata": {},
   "source": [
    "Take the following two lists. Create a third list by picking a odd-index elements from the first list and even-index elements from the second.\n",
    "\n",
    "listOne = [3, 6, 9, 12, 15, 18, 21]\n",
    "listTwo = [4, 8, 12, 16, 20, 24, 28]"
   ]
  },
  {
   "cell_type": "code",
   "execution_count": 6,
   "id": "7554ca94",
   "metadata": {},
   "outputs": [
    {
     "name": "stdout",
     "output_type": "stream",
     "text": [
      "[6, 12, 18, 4, 12, 20, 28]\n"
     ]
    }
   ],
   "source": [
    "listOne = [3,6,9,12,15,18,21]             # Instantiating listOne\n",
    "listTwo = [4,8,12,16,20,24,28]            # Instantiating listTwo\n",
    "listThree = listOne[1::2]+listTwo[0::2]   # Creating listThree by adding elements from listOne (starting with indexed\n",
    "                                          # item 1 ending at the last entry, going up by a step size of 2) to elements \n",
    "                                          # from listTwo (starting with indexed item 0 ending at the last entry, going \n",
    "                                          # up by a step size of 2).\n",
    "print(listThree)         # display the elements of listThree"
   ]
  },
  {
   "cell_type": "markdown",
   "id": "6ab75264",
   "metadata": {},
   "source": [
    "Take the following list. Slice it into three equal chunks and reverse each list.\n",
    "\n",
    "sampleList = [11, 45, 8, 23, 14, 12, 78, 45, 89]"
   ]
  },
  {
   "cell_type": "code",
   "execution_count": 8,
   "id": "9f89b102",
   "metadata": {},
   "outputs": [
    {
     "name": "stdout",
     "output_type": "stream",
     "text": [
      "Sliced lists: [11, 45, 8] [23, 14, 12] [78, 45, 89]\n",
      "The lists reversed are: [8, 45, 11] [12, 14, 23] [89, 45, 78]\n"
     ]
    }
   ],
   "source": [
    "sampleList = [11, 45, 8, 23, 14, 12, 78, 45, 89]  # Instantiating sampleList\n",
    "z =sampleList[:3]                                 # Assigning variable 'z' to point to the first three entries in the\n",
    "                                                  # sampleList\n",
    "y = sampleList[3:6]                               # Assigning variable 'y' to point to the fourth to sixth entries in \n",
    "                                                  # the sampleList\n",
    "x = sampleList[6:]                                # Assigning variable 'z' to point to the last three entries in\n",
    "                                                  # sampleList\n",
    "print('Sliced lists:', z, y, x)                   # display the words \"Sliced lists:\" and the lists that z, y, and x\n",
    "                                                  # point to.\n",
    "z.reverse()                                       # reverse the indexed order of the elements in the list z points to\n",
    "y.reverse()                                       # reverse the indexed order of the elements in the list y points to\n",
    "x.reverse()                                       # reverse the indexed order of the elements in the list z point to\n",
    "print('The lists reversed are:',z, y, x)          # display the words \"The lists reversed are:\" and the updated lists\n",
    "                                                  # that z, y, and x point to."
   ]
  },
  {
   "cell_type": "markdown",
   "id": "eaa97400",
   "metadata": {},
   "source": [
    "Iterate through a given list and check if a given element already exists in a dictionary as a key’s value. If not, delete it from the list.\n",
    "\n",
    "rollNumber = [47, 64, 69, 37, 76, 83, 95, 97]\n",
    "sampleDict ={'Zach':47, 'Emma':69, 'Kelly':76, 'Jason':97}"
   ]
  },
  {
   "cell_type": "code",
   "execution_count": 10,
   "id": "52f38ba0",
   "metadata": {},
   "outputs": [
    {
     "name": "stdout",
     "output_type": "stream",
     "text": [
      "keeping 47\n",
      "removing 64\n",
      "keeping 69\n",
      "removing 37\n",
      "keeping 76\n",
      "removing 83\n",
      "removing 95\n",
      "keeping 97\n",
      "updated rollNumber: [47, 69, 76, 97]\n"
     ]
    }
   ],
   "source": [
    "rollNumber = [47, 64, 69, 37, 76, 83, 95, 97]                  # Instantiate the list rollNumber\n",
    "sampleDict = {'Zach':47, 'Emma':69, 'Kelly':76, 'Jason':97}    # Instantiate the dictionary sampleDict\n",
    "w = []                                                         # Instantiate an empty list, w\n",
    "v = []                                                         # Instantiate an empty list, v\n",
    "for M in sampleDict:                                           # a for loop, go through the sampleDict entries \n",
    "        w.append(sampleDict[M])                                # add each value in sampleDict to list w\n",
    "\n",
    "for N in rollNumber:                                           # a for loop, go through the rollNumber entries\n",
    "    if N in w:                                                 # if an element of rollNumber is also in w:\n",
    "        print('keeping', N)                                    # display the word: \"keeping\" followed by the entry \n",
    "    elif N not in w:                                           # if an element of rollNumber is not in w:\n",
    "        print('removing', N)                                   # display the word: \"removing\" follwed by the entry\n",
    "        v.append(N)                                            # add this entry to list v\n",
    "    else:                                                      # if neither of the two conditions above apply, display\n",
    "        print('try again')                                     # the words \"try again\".\n",
    "\n",
    "\n",
    "rollNumber = [x for x in rollNumber if x not in v]             # update the list rollNumber points to to include\n",
    "                                                               # elements in the original list unless the elements are \n",
    "                                                               # in list v\n",
    "print('updated rollNumber:', rollNumber)                       # display the words \"updated rollNumber\" follwed by\n",
    "                                                               # the updated rollNumber list."
   ]
  },
  {
   "cell_type": "markdown",
   "id": "b9249698",
   "metadata": {},
   "source": [
    "Write a simple statement to check whether an element exists within a tuple."
   ]
  },
  {
   "cell_type": "code",
   "execution_count": 182,
   "id": "73cc5416",
   "metadata": {},
   "outputs": [
    {
     "data": {
      "text/plain": [
       "True"
      ]
     },
     "execution_count": 182,
     "metadata": {},
     "output_type": "execute_result"
    }
   ],
   "source": [
    "Tuple = (1,2,3)       # Instantiating a tuple\n",
    "3 in Tuple            # checking to see if 3 is an element of Tuple"
   ]
  },
  {
   "cell_type": "code",
   "execution_count": 24,
   "id": "0b968016",
   "metadata": {},
   "outputs": [
    {
     "data": {
      "text/plain": [
       "False"
      ]
     },
     "execution_count": 24,
     "metadata": {},
     "output_type": "execute_result"
    }
   ],
   "source": [
    "5 in Tuple            # checking to see if 5 is an element of Tuple"
   ]
  },
  {
   "cell_type": "markdown",
   "id": "9c3672b7",
   "metadata": {},
   "source": [
    "Write a Python function to multiply all the numbers in a list."
   ]
  },
  {
   "cell_type": "code",
   "execution_count": 26,
   "id": "ff578435",
   "metadata": {},
   "outputs": [
    {
     "data": {
      "text/plain": [
       "120"
      ]
     },
     "execution_count": 26,
     "metadata": {},
     "output_type": "execute_result"
    }
   ],
   "source": [
    "def listMult(L):               # Creating a function that will multiply elements in a list, L\n",
    "    result = 1                 # point the variable 'result' to the value 1\n",
    "    for n in L:                # for loop: go through each entry, n, in the list L\n",
    "        result = result*n      # Multiply the entry n by what 'result' points to and make 'result' \n",
    "                               # point to this new value.\n",
    "    return result              # give the updated 'result' value, which is the product of the numbers in the list\n",
    "L = [1,2,3,4,5]                # Instantiating a list\n",
    "listMult(L)                    # put list L through the listMult() function"
   ]
  },
  {
   "cell_type": "markdown",
   "id": "646b97a3",
   "metadata": {},
   "source": [
    "Write a Python program to reverse a string. Hint: Use indexing [start:stop:step]"
   ]
  },
  {
   "cell_type": "code",
   "execution_count": 1,
   "id": "5e35d7ac",
   "metadata": {},
   "outputs": [
    {
     "data": {
      "text/plain": [
       "'proF E ssoR rosseforP'"
      ]
     },
     "execution_count": 1,
     "metadata": {},
     "output_type": "execute_result"
    }
   ],
   "source": [
    "def revString(S):                   # Creating a function that will reverse the elements of a string, S\n",
    "    return S[::-1]                  # give the elements in list S in reverse order (-1 tells Python to begin with \n",
    "                                    # the last entry and list the entries from end to beginning)\n",
    "    \n",
    "\n",
    "text = 'Professor Ross E Forp'      # Instantiating 'text' to point to the palindrome string\n",
    "revString(text)                     # puting string 'text' through the revString() function"
   ]
  },
  {
   "cell_type": "markdown",
   "id": "c825cadc",
   "metadata": {},
   "source": [
    "Describe the difference between floats, integers, and binarys. Bonus: Describe the difference between precision types (i.e float32 and float64) and the relationship it has with system memory."
   ]
  },
  {
   "cell_type": "markdown",
   "id": "c5c1bbba",
   "metadata": {},
   "source": [
    "<b><font color='green'>A float number can have entries behind the decimal point (e.g. 4.0, 3.2, -0.134).  \n",
    "\n",
    "<b><font color='green'>An integer will either be a positive whole number, a negative whole number, or the number zero (e.g. -2, 0, 4, 27).</font><b> \n",
    "\n",
    "<b><font color='green'>A binary number is a number in base-two that uses only a combination of the digits 1 and 0 to denote its value.  The digit to the farthest right is the place holder for 2^0, then the digit to its left is the place holder for 2^1, then 2^2, 2^3, etc.  \n",
    "(e.g. 10011 is binary for the base-ten number 19.\n",
    "1*(2^4) + 0*(2^3) + 0*(2^2) + 1*(2^1) + 1*(2^0) \n",
    "= 16 + 0 + 0 + 2 + 1 \n",
    "= 19)</font><b>\n",
    "\n",
    "<b><font color='green'>Bonus:</font><b>\n",
    "<b><font color='green'>The difference between precision types float32 and float64 comes down to how many values you can store on your given precision level and how much memory it takes to store those values.\n",
    "The float32 type lets you express 2^24 (more than 16 million) values above zero and 2^24 values below zero. \n",
    "The float64 type lets you express 2^53 (approximately 9 quadrillion) values above zero and 2^53 values below zero.  This allows us to be much more precise, but it also takes up a lot more storage in the system's memory than the float32 precision type.</font><b>"
   ]
  },
  {
   "cell_type": "markdown",
   "id": "1105fac8",
   "metadata": {},
   "source": [
    "Describe the difference between a list, tuple, dict, and set."
   ]
  },
  {
   "cell_type": "markdown",
   "id": "f1051225",
   "metadata": {},
   "source": [
    "<b><font color='green'>A SET is a collection of unordered data.  Thus, SETs cannot be indexed.  The data is enclosed with braces: '{}'.</font><b>\n",
    "\n",
    "<b><font color='green'>LISTs and TUPLEs are also collections of data, however, they are ordered and can be indexed.\n",
    "Data entries in LISTs are enclosed with brackets: '[]', while entries in TUPLEs are enlosed with parentheses: '()'.  \n",
    "The difference between lists and tuples is that lists are mutable, while tuples are not.  Mutable objects allow you to change their values without changing their identities.</font><b>\n",
    "\n",
    "<b><font color='green'>Lastly, a DICTIONARY (starting with Python 3.7) is an ordered collection of data that is stored in key-value pairs.  To call a certain value from a dictionary, you must call its key.  Braces are used to enclose the pairs with colons being used to connect the key to the value.</font><b>"
   ]
  },
  {
   "cell_type": "markdown",
   "id": "85c3d93e",
   "metadata": {},
   "source": [
    "Describe 3 methods or functions that act upon a list, tuple, dict, and strings (12 total). If citing the same method, describe how it might behave differently between data."
   ]
  },
  {
   "cell_type": "markdown",
   "id": "9422d85e",
   "metadata": {},
   "source": [
    "<b>list:<font color= 'green'> \n",
    "    Method 1: _add_().  This method will combine 2 lists into one list.  \n",
    "    Method 2: __contains__().  The 'contains' method will check to see if some object is an element of a list.  \n",
    "    Method 3: __delitem__().  This method can delete or remove an indicated indexed object from a list. </font><b>\n"
   ]
  },
  {
   "cell_type": "code",
   "execution_count": 274,
   "id": "53380582",
   "metadata": {},
   "outputs": [
    {
     "name": "stdout",
     "output_type": "stream",
     "text": [
      "List Q + List B: [1, 2, 3, 4, 5]\n",
      "Does p contain 4? True\n",
      "Deleted indexed item 0.  Updated list: [2, 3, 4, 5]\n"
     ]
    }
   ],
   "source": [
    "# LIST Method Examples:\n",
    "# Method 1:\n",
    "Q = [1,2,3]\n",
    "B = [4,5]\n",
    "p = Q.__add__(B)\n",
    "print(\"List Q + List B:\", p)\n",
    "\n",
    "# Method 2:\n",
    "print(\"Does p contain 4?\", p.__contains__(4))\n",
    "\n",
    "# Method 3:\n",
    "p.__delitem__(0)\n",
    "print(\"Deleted indexed item 0.  Updated list:\", p)"
   ]
  },
  {
   "cell_type": "markdown",
   "id": "4e6f846c",
   "metadata": {},
   "source": [
    "<b>tuple:<font color= 'blue'> \n",
    "    Method 1: __eq__().  The eq method can compare tuples and evaluate whether or not they are equal.  \n",
    "    Method 2: __ge__().  A__ge__(B) will compare each pair of same-indexed items in the two tuples and determine if A is greater than or equal to B.  The first pair that differ from eachother will determine the Boolean value of the function.  If the item in the pair from A is greater than or equal to the same-indexed item in B, then the function will return True.  If not, it will return False. \n",
    "    Method 3:   One may use the __getitem__() method to retrieve a certain indexed item from a tuple.</font><b>    "
   ]
  },
  {
   "cell_type": "code",
   "execution_count": 276,
   "id": "97577d2f",
   "metadata": {},
   "outputs": [
    {
     "name": "stdout",
     "output_type": "stream",
     "text": [
      "Is Tuple V equal to Tuple H? False\n",
      "Is Tuple V greater than or equal to Tuple H? False\n",
      "Getting the item indexed as 0 in Tuple W: hi\n"
     ]
    }
   ],
   "source": [
    "# TUPLE Method Examples:\n",
    "# Method 1:\n",
    "V = (1,2,3,4,5)\n",
    "H = (2,3,4,5)\n",
    "print(\"Is Tuple V equal to Tuple H?\", V.__eq__(H))\n",
    "\n",
    "# Method 2:\n",
    "print(\"Is Tuple V greater than or equal to Tuple H?\", V.__ge__(H))\n",
    "\n",
    "# Method 3:\n",
    "W = ('hi', 'how', 'are', 'you')\n",
    "print(\"Getting the item indexed as 0 in Tuple W:\", W.__getitem__(0))"
   ]
  },
  {
   "cell_type": "markdown",
   "id": "fc6b1f29",
   "metadata": {},
   "source": [
    "<b>dict:<font color = violet> \n",
    "    Method 1: In order to merge two dictionaries into one, the __ior__() method may be used.  \n",
    "    Method 2: To find out how many elements are in a dictionary, we can use the __len__() method.  \n",
    "    Method 3: __setitem__(); we can use this method to change the value that a key in a dictionary points to.</font><b>"
   ]
  },
  {
   "cell_type": "code",
   "execution_count": 289,
   "id": "bbecca78",
   "metadata": {},
   "outputs": [
    {
     "name": "stdout",
     "output_type": "stream",
     "text": [
      "Combining Dictionary D with Dictionary E.  Updated dictionary: {'pi': 3.1415926, 'e': 2.71828, 'Phi': 1.618, 'tau': 6.28318530717}\n",
      "The length of Dictionary D is: 4\n",
      "Changing the value of key e to something else; the exact value of the euler number.  Updated dictionary: {'pi': 3.1415926, 'e': 'Sigma(1/n!) from n=0 to infinity', 'Phi': 1.618, 'tau': 6.28318530717}\n"
     ]
    }
   ],
   "source": [
    "# DICTIONARY Method Examples:\n",
    "# Method 1:\n",
    "D = {'pi': 3.1415926, 'e': 2.71828, 'Phi': 1.618}\n",
    "E = {'tau': 6.28318530717}\n",
    "print(\"Combining Dictionary D with Dictionary E.  Updated dictionary:\", D.__ior__(E))\n",
    "\n",
    "# Method 2:\n",
    "print(\"The length of Dictionary D is:\", D.__len__())\n",
    "\n",
    "# Method 3:\n",
    "D.__setitem__('e', 'Sigma(1/n!) from n=0 to infinity')\n",
    "print(\"Changing the value of key e to something else; the exact value of the euler number.  Updated dictionary:\", D)\n"
   ]
  },
  {
   "cell_type": "markdown",
   "id": "14c465ae",
   "metadata": {},
   "source": [
    "<b>string:<font color = maroon> \n",
    "    Method 1: __repr__(): One can use this method to return a string representation of an object.  \n",
    "    Method 2: To display the size of a string in bytes, one can use the __sizeof__() method.  \n",
    "    Method 3: If you would like to know the hash of a string, you can use the __hash__() method.</font><b>"
   ]
  },
  {
   "cell_type": "code",
   "execution_count": 280,
   "id": "997246f7",
   "metadata": {},
   "outputs": [
    {
     "name": "stdout",
     "output_type": "stream",
     "text": [
      "Reproduce the string that S points to. 'Perry the Platypus'\n",
      "What is the size of string S in bytes? 67\n",
      "What is the hash of string S? 3087776506358319221\n"
     ]
    }
   ],
   "source": [
    "#STRING Method Examples:\n",
    "# Method 1:\n",
    "S = \"Perry the Platypus\"\n",
    "print(\"Reproduce the string that S points to.\", S.__repr__())\n",
    "\n",
    "# Method 2:\n",
    "print(\"What is the size of string S in bytes?\", S.__sizeof__())\n",
    "\n",
    "# Method 3:\n",
    "print(\"What is the hash of string S?\", S.__hash__())"
   ]
  },
  {
   "cell_type": "markdown",
   "id": "8a435dab",
   "metadata": {},
   "source": [
    "<b> 03 Exercises - Control Flow <b>"
   ]
  },
  {
   "cell_type": "markdown",
   "id": "da83b7f2",
   "metadata": {},
   "source": [
    "Use a for-loop, iterate over a list, and print each item.\n",
    "\n",
    "list: [1,2,3,4,5,6,7,8,9]"
   ]
  },
  {
   "cell_type": "code",
   "execution_count": 4,
   "id": "4c789431",
   "metadata": {},
   "outputs": [
    {
     "name": "stdout",
     "output_type": "stream",
     "text": [
      "1 2 3 4 5 6 7 8 9 "
     ]
    }
   ],
   "source": [
    "list=[1,2,3,4,5,6,7,8,9]    # Instantiating the list\n",
    "\n",
    "for i in list:              # For loop: go through all entries in 'list'\n",
    "    print(i, end = ' ')     # display the entries of the list, the 'end = ' '' will make the list print horizontally\n"
   ]
  },
  {
   "cell_type": "markdown",
   "id": "4e0e9e7c",
   "metadata": {},
   "source": [
    "Using the last code you wrote, print whether the item is even or odd. Hint: Use an if-else sequence and modulus condition."
   ]
  },
  {
   "cell_type": "code",
   "execution_count": 8,
   "id": "84d6a899",
   "metadata": {},
   "outputs": [
    {
     "name": "stdout",
     "output_type": "stream",
     "text": [
      "1 is odd.\n",
      "2 is even.\n",
      "3 is odd.\n",
      "4 is even.\n",
      "5 is odd.\n",
      "6 is even.\n",
      "7 is odd.\n",
      "8 is even.\n",
      "9 is odd.\n"
     ]
    }
   ],
   "source": [
    "for i in list:                        # for loop: go through all entries in 'list'\n",
    "    if i%2==0:                        # if the element is divisible by 2 (can be divided with no remainder):\n",
    "        print(i, \"is even.\")          # display the element followed by the words \"is even.\"\n",
    "    elif i%2==1:                      # if the element is not divisible by 2 (there exists a remainder \n",
    "                                      # when dividing by 2)\n",
    "        print(i, \"is odd.\")           # display the element, followed by the words \"is odd.\"\n",
    "    else:                             # if neither of the conditions above apply, then\n",
    "        print(\"There is a mistake.\")  # display the words \"There is a mistake.\""
   ]
  },
  {
   "cell_type": "markdown",
   "id": "277a4c8d",
   "metadata": {},
   "source": [
    "Using the last code you wrote, break out of the sequence when the for iteration count is greater than 7. Bonus: Make it break out when the prime number count equals 4 (2,3,5, and 7). "
   ]
  },
  {
   "cell_type": "code",
   "execution_count": 9,
   "id": "3ff4656d",
   "metadata": {},
   "outputs": [
    {
     "name": "stdout",
     "output_type": "stream",
     "text": [
      "1 is odd.\n",
      "2 is even.\n",
      "3 is odd.\n",
      "4 is even.\n",
      "5 is odd.\n",
      "6 is even.\n",
      "7 is odd.\n"
     ]
    }
   ],
   "source": [
    "for i in list:                          # for loop: go through the elements in 'list'\n",
    "    if i>7:                             # if the element is greater than 7 (and will thus give more than \n",
    "                                        # seven iterations)\n",
    "        break                           # stop going through the elements\n",
    "    elif i%2==0:                        # if the element is less than or equal to 7 and is divisible by 2\n",
    "        print(i, \"is even.\")            # display the element followed by \"is even.\"\n",
    "    elif i%2==1:                        # if the element is less than or equal to 7 and is not divisible by 2\n",
    "        print(i, \"is odd.\")             # display the element followed by \"is odd.\"\n",
    "    else:                               # if none of the above conditions apply\n",
    "        print(\"There is a mistake.\")    # display the sentence \"There is a mistake.\""
   ]
  },
  {
   "cell_type": "markdown",
   "id": "9cb145d6",
   "metadata": {},
   "source": [
    "Write a python function that generates a random number 1-9, then requires the user to input a guess. If the guess is wrong, output \"wrong\" and request another input. If the guess is correct, output \"correct.\" Hint: Look into the \"random\" function."
   ]
  },
  {
   "cell_type": "code",
   "execution_count": 70,
   "id": "c0ed71db",
   "metadata": {},
   "outputs": [
    {
     "name": "stdout",
     "output_type": "stream",
     "text": [
      "We have generated a random single digit number greater than zero.  Guess what the number is:2\n",
      "Wrong.  Your guess is too high. Try again.\n",
      "Try again.8\n",
      "Wrong.  Your guess is too high. Try again.\n",
      "Try again.0\n",
      "Wrong.  Your guess is too low. Try again.\n",
      "Try again.1\n",
      "Correct!\n"
     ]
    }
   ],
   "source": [
    "import random                                 # We are importing the random package.\n",
    "\n",
    "def guessnum():                               # We are defining, or creating a function called guessnum\n",
    "    x = random.randint(0,9)                   # We are generating a random integer from 0 to 9 and we are assigning\n",
    "                                              # the variable x to point to that number.\n",
    "    z = int(input(\"We have generated a random single digit number greater than zero.  Guess what the number is:\"))\n",
    "                                              # We ask the user to guess what our randomly generated number is.\n",
    "    while z!=x:                               # While loop: while z does not equal x go through these scenarios:\n",
    "        if z>x:                               # if z is greater than x\n",
    "            print(\"Wrong.  Your guess is too high. Try again.\")  # Tell the user that their guess is too high.\n",
    "            z = int(input(\"Try again.\"))                         # Have the user input another guess.  We are changing\n",
    "                                                                 # what z points to to be the integer version of their \n",
    "                                                                 # new guess.\n",
    "        else:                                 # If z is less than x\n",
    "            print(\"Wrong.  Your guess is too low. Try again.\")   # Tell the user that their guess is too low.\n",
    "            z = int(input(\"Try again.\"))                         # Have the user input another guess.  Change z, so\n",
    "                                                                 # that it points to the integer version of their new\n",
    "                                                                 # guess.\n",
    "    print(\"Correct!\")                         # If z equals x, display the word \"Correct!\"\n",
    "\n",
    "guessnum()"
   ]
  },
  {
   "cell_type": "markdown",
   "id": "50163b68",
   "metadata": {},
   "source": [
    "Check the validity of password input by the user. It must pass these tests:\n",
    "\n",
    "Minimum of 1 letter between [a-z] and 1 letter between [A-Z]\n",
    "\n",
    "Minimum of 1 number between [0-9]\n",
    "\n",
    "Minimum of 1 character from [$#@]\n",
    "\n",
    "Minimum of 6 total characters\n",
    "\n",
    "Maximum of 16 characters"
   ]
  },
  {
   "cell_type": "code",
   "execution_count": 71,
   "id": "088a1972",
   "metadata": {},
   "outputs": [
    {
     "name": "stdout",
     "output_type": "stream",
     "text": [
      "Create a password. Bluey1Bingo2\n",
      "The length of the password is within 6-16 characters.\n",
      "Contains a lowercase letter.\n",
      "Contains an uppercase letter.\n",
      "Contains a number.\n",
      "Invalid: Password must contain at least one of these special characters: $, @, #\n",
      "Invalid password. Create a new password that meets all of the requirements.\n"
     ]
    }
   ],
   "source": [
    "password = input('Create a password. ')          # Ask the user to create a password, and have the variable 'password'\n",
    "                                                 # point to that password.\n",
    "x = len(password)                                # have x point to the length of their password\n",
    "int(x)                                           # make sure x is an integer\n",
    "\n",
    "s = str(password)                                # have s point to the string version of their password\n",
    "if 6<=x<=16:                                                            # If the password length is within 6-16\n",
    "                                                                        # characters\n",
    "    print('The length of the password is within 6-16 characters.')      # Tell the user that their password length is \n",
    "                                                                        # valid.\n",
    "else:                                                                   # If the password length is not within 6-16\n",
    "                                                                        # characters\n",
    "    print('Invalid: Password must be within 6-16 characters.')          # Tell the user that their password is invalid.\n",
    "\n",
    "import re                                        # import the re (regular expression) package \n",
    "\n",
    "if re.search('[a-z]', s):                        # Search the string password for a lowercase letter\n",
    "    print('Contains a lowercase letter.')        # If the password contains a lowercase letter, state this.\n",
    "else:                                                              # If the password does not contain a lowercase,\n",
    "    print('Invalid: Password must contain a lowercase letter.')    # tell the user that the password is invalid.\n",
    "\n",
    "if re.search('[A-Z]',s):                         # Search the string password for an uppercase letter.\n",
    "    print('Contains an uppercase letter.')       # If the password contains an uppercase letter, state this.\n",
    "else:                                                              # If the password does not contain an uppercase,\n",
    "    print('Invalid: Password must contain an uppercase letter.')   # tell the user that the password is invalid.\n",
    "\n",
    "if re.search('[0-9]', s):                        # Search the string password for a numerical character.\n",
    "    print('Contains a number.')                  # If the password contains an integer, state this.\n",
    "else:                                                              # If the password does not contain an integer,\n",
    "    print('Invalid: Password must contain a numerical character.') # tell the user that the password is invalid.\n",
    "\n",
    "if re.search('[$#@]', s):                        # Search the string password for one of the following symbols: $,#,@.\n",
    "    print(\"Contains a special character.\")       # If the password contains one of these symbols, state this.\n",
    "else:                                                                                          # If the password does\n",
    "                                                                                               # not contain one of \n",
    "                                                                                               # these symbols\n",
    "    print('Invalid: Password must contain at least one of these special characters: $, @, #')  # tell the user that the\n",
    "                                                                                               # password is invalid\n",
    "if x>=6 and x<=16 and re.search('[a-z]', s) and re.search('[A-Z]', s) and re.search('[0-9]', s) and re.search('[$#@]', s):\n",
    "    print(\"You have created a valid password.\")\n",
    "#This code checks the password again for all of the conditions needed at the same time.  If all conditions are met,\n",
    "#then tell the user that they have created a valid password.\n",
    "\n",
    "else:\n",
    "    print(\"Invalid password. Create a new password that meets all of the requirements.\") \n",
    "#If one or more of the conditions are not met, tell the user that their password is invalid."
   ]
  },
  {
   "cell_type": "markdown",
   "id": "57d4ce96",
   "metadata": {},
   "source": [
    "Get input of the age of 3 people by user and determine oldest and youngest among them"
   ]
  },
  {
   "cell_type": "code",
   "execution_count": 72,
   "id": "68d8ac7d",
   "metadata": {},
   "outputs": [
    {
     "name": "stdout",
     "output_type": "stream",
     "text": [
      "What is your name? Taylor\n",
      "How old are you? Enter an integer. 33\n",
      "What is your name? Rita\n",
      "How old are you? Enter an integer. 100\n",
      "What is your name? Bingo\n",
      "How old are you? Enter an integer. 4\n",
      "The oldest is Rita and they are 100 . The youngest is Bingo and they are 4 .\n"
     ]
    }
   ],
   "source": [
    "def Data_Collector():                 # Create a function to collect data from users.\n",
    "    people = [1, 2, 3]                # Create a list of values from 1 to 3\n",
    "    for n in people:                  # for loop: go through each of the values in the list \"people\"\n",
    "        if n == 1:                                                #For the first user,\n",
    "            User1 = input('What is your name? ')                  # ask them to input their name\n",
    "            age1 = input('How old are you? Enter an integer. ')   # ask them to input their age\n",
    "            a = int(age1)                                         # have a point to their age as an integer\n",
    "        elif n == 2:                                              # For the second user,\n",
    "            User2 = input('What is your name? ')                  # ask them to input their name\n",
    "            age2 = input('How old are you? Enter an integer. ')   # ask them to input their age\n",
    "            b = int(age2)                                         # have b point to their age as an integer\n",
    "        else:                                              # For the third user,\n",
    "            User3 = input('What is your name? ')                  # ask them to input their name\n",
    "            age3 = input('How old are you? Enter an integer. ')   # ask them to input their age\n",
    "            c = int(age3)                                         # have c point to their age as an integer\n",
    "       \n",
    "    \n",
    "    d = max(a, b, c)          # Set d to point to the maximum value of a, b, and c.\n",
    "    e = min(a, b, c)          # Set e to point to the minimum value of a, b, and c.\n",
    "    \n",
    "    h = str(a)                # Set h to point to the string version of a.\n",
    "    k = str(b)                # Set k to point to the string version of b.\n",
    "    v = str(c)                # Set v to point to the string version of c.\n",
    "    \n",
    "    t = str(d)                # Set t to point to the string version of d.\n",
    "    s = str(e)                # Set s to point to the string version of e.\n",
    "    \n",
    "    p = {h:User1, k:User2, v:User3}   #Instantiate a dictionary, p, with keys h, k, v and their respective values\n",
    "                                      # User1, User2, and User3\n",
    "    j = p[t]                  # Set j to point to the item in dictionary p using the key that t points to (the maximum \n",
    "                              # age).\n",
    "    f = p[s]                  # Set f to point to the item in dictionary p using the key that s points to (the minimum\n",
    "                              # age.\n",
    "    return print('The oldest is',j, 'and they are', t,'.', 'The youngest is', f, 'and they are', s,'.')\n",
    "         # State who the oldest is (which value has a key of t in the dictionary), and their age.  Also state who\n",
    "         # the youngest is (which value has a key of s in the dictionary), and their age.\n",
    "\n",
    "Data_Collector()      # Run the function."
   ]
  },
  {
   "cell_type": "markdown",
   "id": "49683521",
   "metadata": {},
   "source": [
    "A student will not be allowed to sit in exam if his/her attendance is less than 75%. Print percentage of class attended.\n",
    "\n",
    "Take following input from user: number of classes held, number of classes attended\n",
    "\n",
    "Is student is allowed to sit in exam or not?"
   ]
  },
  {
   "cell_type": "code",
   "execution_count": 76,
   "id": "6a713967",
   "metadata": {},
   "outputs": [
    {
     "name": "stdout",
     "output_type": "stream",
     "text": [
      "Number of classes held: 20\n",
      "Number of classes attended: 15\n",
      "15 / 20\n",
      "Percentage of class attended: 75.0 %\n",
      "The student may sit in the exam.\n"
     ]
    }
   ],
   "source": [
    "a = int(input('Number of classes held: '))        # Let a point to the number of total classes held.\n",
    "b = int(input('Number of classes attended: '))    # Let b point to the number of classes attended.\n",
    "\n",
    "print(b, '/', a)                                  # Display the value of b, the '/', and the value of a.\n",
    "c = (b/a)*100                                     # Set c to point to the value of (b/a)*100. This is the attendance %.\n",
    "print('Percentage of class attended:', c,'%')     # Display the percent of classes attended.\n",
    "\n",
    "if c >= 75:                                       # If c is 75 or higher\n",
    "    print('The student may sit in the exam.')     # state that the student may sit in the exam.\n",
    "else:                                                        # If c is lower than 75\n",
    "    print('The student is not allowed to sit in the exam.')  # state that the student may not sit in the exam."
   ]
  },
  {
   "cell_type": "markdown",
   "id": "9809d83e",
   "metadata": {},
   "source": [
    "Get an integer N from the user and perform the following actions:\n",
    "\n",
    "if N is odd, print \"weird\"\n",
    "\n",
    "if N is even and in the inclusive range of 2 to 5, print \"Not Weird\"\n",
    "\n",
    "if N is even and in the inclusive range of 6 to 20, print \"Weird\"\n",
    "\n",
    "if N is even and greater than 20, print \"Not Weird\""
   ]
  },
  {
   "cell_type": "code",
   "execution_count": 56,
   "id": "5ae304c1",
   "metadata": {},
   "outputs": [
    {
     "name": "stdout",
     "output_type": "stream",
     "text": [
      "Enter an integer: 14\n",
      "Weird\n"
     ]
    }
   ],
   "source": [
    "x = input('Enter an integer: ')\n",
    "N = int(x)\n",
    "\n",
    "if N % 2 ==1:\n",
    "    print(\"weird\")\n",
    "else:\n",
    "    if 2<=N<=5:\n",
    "        print('Not Weird')\n",
    "    elif 6<=N<=20:\n",
    "        print('Weird')\n",
    "    elif N > 20:\n",
    "        print('Not Weird')\n",
    "    else:\n",
    "        print('huh?')"
   ]
  },
  {
   "cell_type": "markdown",
   "id": "4981afa6",
   "metadata": {},
   "source": [
    "Define \"recursion\""
   ]
  },
  {
   "cell_type": "markdown",
   "id": "00b38cc2",
   "metadata": {},
   "source": [
    "<font color = 'green'><b>Recursion defines something in terms of itself.  For an example, the equation x += 2 (which is equivalent to x = x+2), is recursive because to redefine itself, it must use its present version of itself.</font><b>  "
   ]
  },
  {
   "cell_type": "markdown",
   "id": "37446795",
   "metadata": {},
   "source": [
    "Describe the difference between a for-loop and while-loop"
   ]
  },
  {
   "cell_type": "markdown",
   "id": "5d5fd390",
   "metadata": {},
   "source": [
    "<font color = \"green\"><b>A for-loop will go through and check or perform functions for all the items in the object being looped.  A while-loop will only check and perform functions on the items in the object that satisfy (evaluate to True) the while-statement.</font><b>  "
   ]
  },
  {
   "cell_type": "markdown",
   "id": "a4726330",
   "metadata": {},
   "source": [
    "Describe what \"global i\" refers to in the following code, and how it differs from local i."
   ]
  },
  {
   "cell_type": "code",
   "execution_count": 3,
   "id": "2c17bb30",
   "metadata": {},
   "outputs": [
    {
     "name": "stdout",
     "output_type": "stream",
     "text": [
      "2\n",
      "5\n",
      "5\n"
     ]
    }
   ],
   "source": [
    "i=2                    # Let i point to 2.  This is a global i.\n",
    "print(i)               # Display what i points to.\n",
    "\n",
    "def nothing():         # Create an define a function called 'nothing'.\n",
    "    global i           # Intriduce a global variable i.  (We are therefore rewriting the global i that already exists.)\n",
    "    i=5                # Make the global variable i now point to 5.\n",
    "    print(i)           # Display what i points to.\n",
    "nothing()              # Run the function 'nothing'.\n",
    "print(i)               # When the function is done running (we are now outside of the function), print what the global\n",
    "                       # variable i points to."
   ]
  },
  {
   "cell_type": "markdown",
   "id": "aa93a2ff",
   "metadata": {},
   "source": [
    "<font color = \"green\"><b>One way to differentiate between global and local variables is that global variables are instantiated outside of functions while local variables are instantiated within functions. Rahul Janghu defines local variables by saying, \"Local variables are created when the function starts its execution and are lost when the function ends.\"* \n",
    "The \"global i\" referred to in the function above is created when the function starts, however, because it is made a \"global\" variable, it will not be lost when the function ends.  This is why at the end of the code, when i is called, it displays 5 rather than the originally instantiated 2.</font><b>\n",
    "\n",
    "* Janghu, Rahul.  \"What is the Difference between Local and Global Variables in Python?\" Scaler Topics. Retrieved June 30, 2023 at https://www.scaler.com/topics/difference-between-local-and-global-variable-in-python/."
   ]
  },
  {
   "cell_type": "markdown",
   "id": "99bbec99",
   "metadata": {},
   "source": [
    "Comment the following code."
   ]
  },
  {
   "cell_type": "code",
   "execution_count": 4,
   "id": "181d5fa6",
   "metadata": {},
   "outputs": [
    {
     "name": "stdout",
     "output_type": "stream",
     "text": [
      "[1, 1, 2, 3, 5, 8, 13, 21, 34, 55, 89]\n"
     ]
    }
   ],
   "source": [
    "a, b = 0, 1                               # Let a point to 0 and b point to 1.\n",
    "amax = 100                                # Let the variable amax point to 100.\n",
    "L = []                                    # Instantiate an empty list, L.\n",
    "\n",
    "while True:                               # while-loop: while the following is true, loop through values.\n",
    "    (a, b) = (b, a + b) #0,1 = 1, 0+1     # Redefine a to point to what b pointed to, and redefine b to point to\n",
    "                                          # the value of a + b.\n",
    "    if a > amax:                          # If what a points to is greater than 100, then\n",
    "        break                             # stop going through the values.\n",
    "    L.append(a)                           # add what a currently points to to list L\n",
    "\n",
    "print(L)                                  # Display the values now in list L as a result of our while-loop."
   ]
  },
  {
   "cell_type": "markdown",
   "id": "f417cd5b",
   "metadata": {},
   "source": [
    "<b> Bonus Exercises </b>"
   ]
  },
  {
   "cell_type": "markdown",
   "id": "5eea9b56",
   "metadata": {},
   "source": [
    "Bonus: Write a Python function to convert a tuple to a string."
   ]
  },
  {
   "cell_type": "code",
   "execution_count": 116,
   "id": "18725065",
   "metadata": {},
   "outputs": [
    {
     "name": "stdout",
     "output_type": "stream",
     "text": [
      "The tuple has been converted to a string, y: y =  1 2 3\n",
      "<class 'str'>\n",
      "The tuple has been converted to a string, y: y =  pi is approximately 3.1415926\n",
      "<class 'str'>\n"
     ]
    }
   ],
   "source": [
    "T = (1, 2, 3)                                               # Let our first tuple be T, made up of integers.\n",
    "Tup = ('pi', 'is', 'approximately', '3.1415926')            # Let our second tuple be Tup, made up of strings.\n",
    "\n",
    "def convtup(T):                                                          # We are creating a function called convtup.\n",
    "    x = \" \".join(map(str,T))                                             # Let x point to a string joined with a \n",
    "                                                                         # mapping of elements of the tuple converted\n",
    "                                                                         # to strings.\n",
    "    global y                                                             # Let y in the function be used as a global\n",
    "                                                                         # variable.\n",
    "    y = str(x)                                                           # Let y point to the tuple x, whose elements\n",
    "                                                                         # are now strings, and convert the tuple type\n",
    "                                                                         # to a string.\n",
    "    return print(\"The tuple has been converted to a string, y: y = \",y)  # As a result of the function, display a\n",
    "                                                                         # a message along with the string y.\n",
    "convtup(T)                 # We are using the convtup function to convert T to a string, y.\n",
    "print(type(y))             # We are checking that y is truly a string.\n",
    "\n",
    "convtup(Tup)               # We are using the Tup function to convert Tup to a string, y.\n",
    "print(type(y))             # We are checking that y is truly a string."
   ]
  },
  {
   "cell_type": "markdown",
   "id": "8b6604eb",
   "metadata": {},
   "source": [
    "Bonus: Write a Python program to print a tuple with string formatting. You will need to look into print function parameters and string formatting methods."
   ]
  },
  {
   "cell_type": "code",
   "execution_count": null,
   "id": "10aa0dab",
   "metadata": {},
   "outputs": [],
   "source": []
  },
  {
   "cell_type": "markdown",
   "id": "d22b9747",
   "metadata": {},
   "source": [
    "Bonus: Define what a \"hash\" is. Then, get a space-separated list of integers from the user, create a tuple of those integers. Then compute and print the result of hash(tuple).  [Hint](https://docs.python.org/3/library/functions.html#hash). **Hash()**\n",
    "\n",
    "A **[hash](https://en.wikipedia.org/wiki/Hash_function)** is an fixed sized integer that identifies a particular value. Each value needs to have its own hash, so for the same value you will get the same hash even if it's not the same object."
   ]
  },
  {
   "cell_type": "code",
   "execution_count": null,
   "id": "b9ccab42",
   "metadata": {},
   "outputs": [],
   "source": []
  },
  {
   "cell_type": "markdown",
   "id": "4cf6ba94",
   "metadata": {},
   "source": [
    "Bonus: In mathematics, the quadratic equation ax2+bx+c=0 can be solved with the formula x=−b±√((b2−4ac)/2a).\n",
    "\n",
    "Write a function solve_quadratic, that returns both solutions of a generic quadratic as a pair (2-tuple) when the coefficients are given as parameters. It should work like this:\n",
    "\n",
    "print(solve_quadratic(1,-3,2))\n",
    "(2.0,1.0)\n",
    "print(solve_quadratic(1,2,1))\n",
    "(-1.0,-1.0)\n",
    "You may want to use the math.sqrt function from the math module in your solution. Test that your function works in the main function!"
   ]
  },
  {
   "cell_type": "code",
   "execution_count": 183,
   "id": "23b36302",
   "metadata": {},
   "outputs": [
    {
     "name": "stdout",
     "output_type": "stream",
     "text": [
      "(1.0, 0.3333333333333333)\n",
      "The roots are complex numbers of the form a+bj where b is the imaginary part: ('-1.0+1.4142135623730951j', '-1.0+-1.4142135623730951j')\n",
      "(2.0, 1.0)\n",
      "(-1.0, -1.0)\n",
      "(0.0, 0.0)\n"
     ]
    }
   ],
   "source": [
    "import math                    #Import the math module.\n",
    "\n",
    "def solve_quadratic(a,b,c):    # Create a function called solve_quadratic that takes 3 arguments.\n",
    "    if b**2 - 4*a*c < 0:       # If the discriminant is negative(a negative discriminant will tell us that the\n",
    "                               # solutions are complex numbers), then:\n",
    "        roots = (str((-b/(2*a)))+\"+\"+str(math.sqrt(abs(b**2 - 4*a*c))/(2*a))+\"j\",   # Because the discriminant is\n",
    "                 str((-b/(2*a)))+\"+\"+str(-math.sqrt(abs(b**2 - 4*a*c))/(2*a))+\"j\")  # negative, we will get the square\n",
    "                                                                                    # root of a negative number, which\n",
    "                                                                                    # is a non-real result, which \n",
    "                                                                                    # cannot be calculated as is.\n",
    "                                                                                    # Thus, we must put the discriminant\n",
    "                                                                                    # in absolute value signs so that we\n",
    "                                                                                    # have a positive discriminant and \n",
    "                                                                                    # can therefore complete the square \n",
    "                                                                                    # root function.  However, we must\n",
    "                                                                                    # indicate that this part of the \n",
    "                                                                                    # solution is imaginary, so we \n",
    "                                                                                    # convert the parts of the equation\n",
    "                                                                                    # into strings and attach a j to \n",
    "                                                                                    # the imaginary part.\n",
    "        print(\"The roots are complex numbers of the form a+bj where b is the imaginary part:\", roots) # Print the \n",
    "                                                                                                      # solutions along\n",
    "                                                                                                      # with a note that\n",
    "                                                                                                      # these are non-\n",
    "                                                                                                      # real answers.\n",
    "    else:                                                  # If the discriminant is not negative,\n",
    "        roots = ((-b+math.sqrt(b**2 - 4*a*c))/(2*a),       # complete the quadratic formula to compute the\n",
    "                 (-b-math.sqrt(b**2 - 4*a*c))/(2*a))       # solution(s).\n",
    "        print(roots)                                       # Display the solution(s).\n",
    "        \n",
    "solve_quadratic(3,-4,1)                                    # Run the function several times to make sure it works.\n",
    "solve_quadratic(1,2,3)\n",
    "solve_quadratic(1,-3,2)\n",
    "solve_quadratic(1,2,1)\n",
    "solve_quadratic(1,0,0)"
   ]
  },
  {
   "cell_type": "markdown",
   "id": "09eb1a66",
   "metadata": {},
   "source": [
    "Bonus: Write a Python function that accepts a string and calculate the number of upper case letters and lower case letters."
   ]
  },
  {
   "cell_type": "code",
   "execution_count": 164,
   "id": "fb698d22",
   "metadata": {},
   "outputs": [
    {
     "name": "stdout",
     "output_type": "stream",
     "text": [
      "lowercase count: 9 and uppercase count: 2\n"
     ]
    }
   ],
   "source": [
    "import re                                 # Import the regular expressions package.\n",
    "\n",
    "def letters(s):                           # Create a function called letters that takes an argument, s.\n",
    "    l = []                                # Instantiate an empty list l.\n",
    "    U = []                                # Instantiate an empty list U.\n",
    "    for i in s:                           # For-loop: Go through each element in s.\n",
    "        if re.search('[a-z]',i):          # If the element contains a lowercase letter,\n",
    "            l.append(i)                   # add this element to the list, l.\n",
    "        elif re.search('[A-Z]',i):        # If the element contains an uppercase letter, \n",
    "            U.append(i)                   # add this element to the list, U.\n",
    "        else:                             # If the element is neither a lowercase nor an uppercase letter,\n",
    "            continue                      # continue the loop to evaluate the next entry.\n",
    "    return print(\"lowercase count:\", len(l), \"and uppercase count:\", len(U))       # Display the length of list l and\n",
    "                                                                                   # list U including string labels.\n",
    "s = \"Hello, Janice. 123+\"                 # Instantiate a string.\n",
    "\n",
    "letters(s)                                # Run the function on s.\n"
   ]
  },
  {
   "cell_type": "markdown",
   "id": "9c555a0e",
   "metadata": {},
   "source": [
    "<b> Final Bonus: Recursion </b>\n",
    "\n",
    "Tower of Hanoi (Python Program)\n",
    "\n",
    "Tower of Hanoi is a mathematical puzzle where we have three rods and n disks. The objective of the puzzle is to move the entire stack to another rod, obeying the following simple rules:\n",
    "\n",
    "Only one disk can be moved at a time.\n",
    "Each move consists of taking the upper disk from one of the stacks and placing it on top of another stack i.e. a disk can only be moved if it is the uppermost disk on a stack.\n",
    "No disk may be placed on top of a smaller disk.\n",
    "Note: Transferring the top n-1 disks from source rod to Auxilliary rod can again be thought of as a fresh problem and can be solved in the same manner.\n",
    "\n",
    "See image and solution in Notebook-Python-0303. "
   ]
  },
  {
   "cell_type": "code",
   "execution_count": 180,
   "id": "6640ab46",
   "metadata": {
    "scrolled": true
   },
   "outputs": [
    {
     "name": "stdout",
     "output_type": "stream",
     "text": [
      "The minimum number of moves when there are 5 disks is 31.\n",
      "Move disk 1 from source A to destination B\n",
      "Move disk 2 from source A to destination C\n",
      "Move disk 1 from source B to destination C\n",
      "Move disk 3 from source A to destination B\n",
      "Move disk 1 from source C to destination A\n",
      "Move disk 2 from source C to destination B\n",
      "Move disk 1 from source A to destination B\n",
      "Move disk 4 from source A to destination C\n",
      "Move disk 1 from source B to destination C\n",
      "Move disk 2 from source B to destination A\n",
      "Move disk 1 from source C to destination A\n",
      "Move disk 3 from source B to destination C\n",
      "Move disk 1 from source A to destination B\n",
      "Move disk 2 from source A to destination C\n",
      "Move disk 1 from source B to destination C\n",
      "Move disk 5 from source A to destination B\n",
      "Move disk 1 from source C to destination A\n",
      "Move disk 2 from source C to destination B\n",
      "Move disk 1 from source A to destination B\n",
      "Move disk 3 from source C to destination A\n",
      "Move disk 1 from source B to destination C\n",
      "Move disk 2 from source B to destination A\n",
      "Move disk 1 from source C to destination A\n",
      "Move disk 4 from source C to destination B\n",
      "Move disk 1 from source A to destination B\n",
      "Move disk 2 from source A to destination C\n",
      "Move disk 1 from source B to destination C\n",
      "Move disk 3 from source A to destination B\n",
      "Move disk 1 from source C to destination A\n",
      "Move disk 2 from source C to destination B\n",
      "Move disk 1 from source A to destination B\n"
     ]
    }
   ],
   "source": [
    "def MinMoves(numdisks):                             # Create a function that will determine the minimum number of \n",
    "                                                    # moves it will take to solve the Tower of Hanoi puzzle given the\n",
    "                                                    # number of disks in the puzzle.\n",
    "    x = 2**numdisks -1                              # Let x point to the value of 2 raised to the # of disks minus 1.\n",
    "    print(\"The minimum number of moves when there are\", numdisks, \"disks is\", str(x)+\".\")   # State the minimum number \n",
    "                                                                                            # of moves it takes\n",
    "                                                                                            # to solve the puzzle.\n",
    "MinMoves(5)                                         # Find the minimum number of moves it takes to solve the Tower of\n",
    "                                                    # Hanoi puzzle if there are 5 disks in the puzzle.\n",
    "\n",
    "def TowerOfHanoi(n, source, destination, auxilliary):       # Create a function that will describe how to solve the\n",
    "                                                            # Tower of Hanoi puzzle given the number of disks, and \n",
    "                                                            # the names of the towers.\n",
    "    if n==1:                                                                  # If there is only one disk:\n",
    "        print(\"Move disk 1 from source\",source,\"to destination\",destination)  # tell the user where to move the disk.\n",
    "        return                                                                # Return the results.\n",
    "    TowerOfHanoi(n-1, source, auxilliary, destination)                        # If n>1, run the function again with \n",
    "                                                                              # one less disk,but this time, the \n",
    "                                                                              # destination tower becomes the \n",
    "                                                                              # auxilliary tower and vice versa.\n",
    "            \n",
    "    print(\"Move disk\",n,\"from source\",source,\"to destination\",destination)    # Tell the user how to move the next\n",
    "                                                                              # set of disks.\n",
    "    TowerOfHanoi(n-1, auxilliary, destination, source)                        # Run the function again, but change\n",
    "                                                                              # the original auxilliary tower to be\n",
    "                                                                              # the source tower, and the original\n",
    "                                                                              # source tower to be the auxilliary tower.\n",
    "                                                                              # This code will run until n is one, then\n",
    "                                                                              # after one more calculation, the function\n",
    "                                                                            # will return the entire set of directions.\n",
    "TowerOfHanoi(5,'A','B','C')                 # Run the function with 5 disks, and towers A, B, and C."
   ]
  },
  {
   "cell_type": "markdown",
   "id": "6395d13c",
   "metadata": {},
   "source": [
    "General Feedback on Course\n",
    "General Feedback for Preston\n",
    "How Can Preston Better Serve Your Goals\n",
    "Anything You Specific Would Like Resource On"
   ]
  },
  {
   "cell_type": "markdown",
   "id": "44a5a22d",
   "metadata": {},
   "source": [
    "<font color=\"green\"><b>I have already answered these questions on Slack.</font><b>"
   ]
  }
 ],
 "metadata": {
  "kernelspec": {
   "display_name": "Python 3 (ipykernel)",
   "language": "python",
   "name": "python3"
  },
  "language_info": {
   "codemirror_mode": {
    "name": "ipython",
    "version": 3
   },
   "file_extension": ".py",
   "mimetype": "text/x-python",
   "name": "python",
   "nbconvert_exporter": "python",
   "pygments_lexer": "ipython3",
   "version": "3.9.13"
  }
 },
 "nbformat": 4,
 "nbformat_minor": 5
}

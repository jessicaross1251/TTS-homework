{
 "cells": [
  {
   "cell_type": "code",
   "execution_count": null,
   "id": "1542bcbb",
   "metadata": {},
   "outputs": [],
   "source": [
    "#You are given two classes, Person and Student, where Person is the base class and Student is the derived class. \n",
    "#Completed code for Person and a declaration for Student are provided for you in the editor. \n",
    "#Observe that Student inherits all the properties of Person.\n",
    "\n",
    "#Complete the Student class by writing the following:\n",
    "\n",
    "#A Student class constructor, which has 4 parameters:\n",
    "\n",
    "#A string, firstName\n",
    "#A string, lastName\n",
    "#An integer, id An integer \n",
    "#An array (or vector) of test scores, scores\n",
    "\n",
    "#A char calculate() method that calculates a Student object's average and returns the grade character representative of their calculated average:\n",
    "\n",
    "#A | 90-100\n",
    "#B | 80-89\n",
    "#C | 70-79\n",
    "#D | 60-69\n",
    "#F | <60"
   ]
  },
  {
   "cell_type": "code",
   "execution_count": 67,
   "id": "af6e71eb",
   "metadata": {},
   "outputs": [
    {
     "name": "stdout",
     "output_type": "stream",
     "text": [
      "# 27196839 Jessica Ross Grade: A\n",
      "# 23456678 Kathy Ross Grade: C\n"
     ]
    }
   ],
   "source": [
    "import math\n",
    "import array\n",
    "\n",
    "\n",
    "class Person:\n",
    "    firstName = \"\"\n",
    "    lastName = \"\"\n",
    "    \n",
    "    def __init__(self, fname, lname):\n",
    "        self.firstName = fname\n",
    "        self.lastName = lname\n",
    "\n",
    "    \n",
    "class Student(Person):\n",
    "    \n",
    "    def __init__(self, fname, lname, ID, score):\n",
    "        self.firstName = fname\n",
    "        self.lastName = lname\n",
    "        self.identity = ID\n",
    "        self.Score = score\n",
    "        score = array.array(i,[])\n",
    "\n",
    "    \n",
    "class Grades(Student):\n",
    "    def __init__(self, fname, lname, ID, score):\n",
    "        self.firstName = fname\n",
    "        self.lastName = lname\n",
    "        self.identity = ID\n",
    "        self.Score = score\n",
    "        score = array.array(i,[])\n",
    "           \n",
    "        \n",
    "    def calculate(Grades):\n",
    "        average = sum(Grades.score)/len(Grades.score)\n",
    "        if average >=90:\n",
    "            print(\"#\", Grades.identity, Grades.fname, Grades.lname, 'Grade: A')\n",
    "        elif 80<=average<90:\n",
    "            print(\"#\", Grades.identity, Grades.fname, Grades.lname, 'Grade: B')\n",
    "        elif 70<=average<80:\n",
    "            print(\"#\", Grades.identity, Grades.fname, Grades.lname, 'Grade: C')\n",
    "        elif 60<=average<70:\n",
    "            print(\"#\", Grades.identity, Grades.fname, Grades.lname, 'Grade: D')\n",
    "        else:\n",
    "            print(\"#\", Grades.identity, Grades.fname, Grades.lname, 'Grade: F')\n",
    "\n",
    "a = Grades\n",
    "Grades.fname = \"Jessica\"\n",
    "Grades.lname = \"Ross\"\n",
    "Grades.identity = 27196839\n",
    "Grades.score = [88, 99, 85, 97]\n",
    "\n",
    "a.calculate(Grades)\n",
    "\n",
    "b = Grades\n",
    "Grades.fname = \"Kathy\"\n",
    "Grades.lname = \"Ross\"\n",
    "Grades.identity = 23456678\n",
    "Grades.score = [80, 90, 85, 70, 73]\n",
    "\n",
    "b.calculate(Grades)"
   ]
  }
 ],
 "metadata": {
  "kernelspec": {
   "display_name": "Python 3 (ipykernel)",
   "language": "python",
   "name": "python3"
  },
  "language_info": {
   "codemirror_mode": {
    "name": "ipython",
    "version": 3
   },
   "file_extension": ".py",
   "mimetype": "text/x-python",
   "name": "python",
   "nbconvert_exporter": "python",
   "pygments_lexer": "ipython3",
   "version": "3.9.13"
  }
 },
 "nbformat": 4,
 "nbformat_minor": 5
}

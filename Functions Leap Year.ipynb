{
 "cells": [
  {
   "cell_type": "code",
   "execution_count": 1,
   "id": "70fb1b6e",
   "metadata": {},
   "outputs": [],
   "source": [
    "def is_leap(year):\n",
    "    leap = False\n",
    "    if year % 4 !=0:\n",
    "        return leap\n",
    "    else:\n",
    "        if year % 100 == 0 and year % 400 == 0:\n",
    "            return not leap\n",
    "        elif year % 100 == 0 and year % 400 !=0:\n",
    "            return leap\n",
    "        else:\n",
    "            return not leap"
   ]
  },
  {
   "cell_type": "code",
   "execution_count": 5,
   "id": "67fd2568",
   "metadata": {},
   "outputs": [
    {
     "data": {
      "text/plain": [
       "False"
      ]
     },
     "execution_count": 5,
     "metadata": {},
     "output_type": "execute_result"
    }
   ],
   "source": [
    "is_leap(2100)"
   ]
  }
 ],
 "metadata": {
  "kernelspec": {
   "display_name": "Python 3 (ipykernel)",
   "language": "python",
   "name": "python3"
  },
  "language_info": {
   "codemirror_mode": {
    "name": "ipython",
    "version": 3
   },
   "file_extension": ".py",
   "mimetype": "text/x-python",
   "name": "python",
   "nbconvert_exporter": "python",
   "pygments_lexer": "ipython3",
   "version": "3.9.13"
  }
 },
 "nbformat": 4,
 "nbformat_minor": 5
}

{
 "cells": [
  {
   "cell_type": "code",
   "execution_count": null,
   "id": "a5d66984",
   "metadata": {},
   "outputs": [
    {
     "name": "stdout",
     "output_type": "stream",
     "text": [
      "10\n",
      "4 0\n",
      "Error Code: integer division or modulo by zero\n",
      "4 &\n",
      "Error Code: invalid literal for int() with base 10: '&'\n",
      "3 4\n",
      "0\n",
      "6 3\n",
      "2\n"
     ]
    }
   ],
   "source": [
    "T = int(input())\n",
    "\n",
    "for x in range(0, T):\n",
    "    a_b = input().split(' ')\n",
    "    try:\n",
    "        print(int(int(a_b[0])/int(a_b[1])))\n",
    "    except ZeroDivisionError:\n",
    "        print(\"Error Code: integer division or modulo by zero\")\n",
    "    except ValueError as e:\n",
    "        print(\"Error Code:\", e)"
   ]
  }
 ],
 "metadata": {
  "kernelspec": {
   "display_name": "Python 3 (ipykernel)",
   "language": "python",
   "name": "python3"
  },
  "language_info": {
   "codemirror_mode": {
    "name": "ipython",
    "version": 3
   },
   "file_extension": ".py",
   "mimetype": "text/x-python",
   "name": "python",
   "nbconvert_exporter": "python",
   "pygments_lexer": "ipython3",
   "version": "3.9.13"
  }
 },
 "nbformat": 4,
 "nbformat_minor": 5
}
